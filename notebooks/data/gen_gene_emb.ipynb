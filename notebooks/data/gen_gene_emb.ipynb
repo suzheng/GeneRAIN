{
 "cells": [
  {
   "cell_type": "markdown",
   "id": "62eceefc-f7fc-43c0-9d2d-5a0a3c5ac83c",
   "metadata": {},
   "source": [
    "## Generate meta data of genes and samples for human_gene_v2.2.h5"
   ]
  },
  {
   "cell_type": "code",
   "execution_count": 2,
   "id": "4a913c53-8952-4330-90d4-a4f0e7e2f69a",
   "metadata": {},
   "outputs": [
    {
     "name": "stdout",
     "output_type": "stream",
     "text": [
      "Run in training mode!\n",
      "param_json_file is /g/data/yr31/zs2131/tasks/2023/RNA_expr_net/anal/training/exp20/exp20_GPT_uniform_bin.param_config.json\n",
      "Parameter of GENE_EMB_NAME not found in the input json file, use default value of gene2vec!\n",
      "Parameter of TOTAL_NUMBER_OF_DATASETS not found in the input json file, use default value of 5!\n",
      "Parameter of DATASET_TO_GET_FOR_MIXED_DATASET not found in the input json file, use default value of None!\n",
      "Parameter of FINETUNE_TO_RECONSTRUCT_EXPR_OF_ALL_GENES not found in the input json file, use default value of False!\n",
      "Parameter of OUTPUT_ATTENTIONS not found in the input json file, use default value of False!\n",
      "Parameter of OUTPUT_HIDDEN_STATES not found in the input json file, use default value of False!\n",
      "Parameter of ONLY_USE_PERTURBED_GENE_TO_PREDICT not found in the input json file, use default value of False!\n",
      "Parameter of LEARN_ON_ZERO_EXPR_GENES not found in the input json file, use default value of False!\n",
      "Parameter of OUTPUT_PARAMETER_HIST_TO_TENSOBOARD_BY_BATCH not found in the input json file, use default value of False!\n",
      "Parameter of PERTURBED_GENE_ALWAYS_IN_INPUT_EXPR_IN_PERTURB_DATASET not found in the input json file, use default value of False!\n",
      "Parameter of USE_AND_KEEP_ZERO_EXPR_GENES not found in the input json file, use default value of True!\n",
      "Parameter of SHUFFLE_GENE_INDICES_IN_EVALUATION not found in the input json file, use default value of False!\n",
      "Parameter of SHUFFLE_EXPR_INDICES_IN_EVALUATION not found in the input json file, use default value of False!\n",
      "Parameter of METHOD_TO_COMBINE_INPUT_AND_ENCODING not found in the input json file, use default value of None!\n",
      "Parameter of PRETRAIN_MODEL_CHECKPOINT_PATH not found in the input json file, use default value of None!\n",
      "/g/data/yr31/zs2131/tasks/2023/RNA_expr_net/DeepGeneNet/results/models/pretrain/exp9/model.rank0.\n",
      "checkpoint file /g/data/yr31/zs2131/tasks/2023/RNA_expr_net/DeepGeneNet/results/models/pretrain/exp9/model.rank0.epoch1.pth found.\n",
      "/g/data/yr31/zs2131/tasks/2023/RNA_expr_net/DeepGeneNet/results/models/pretrain/exp9/model.rank0.epoch1.pth\n",
      "Parameter of PERCENT_OF_MASKED_GENES_ASSIGNED_AS_TOKEN_ZERO not found in the input json file, use default value of 0.8!\n",
      "Parameter of PERCENT_OF_MASKED_GENES_ASSIGNED_AS_RANDOM_TOKENS not found in the input json file, use default value of 0.1!\n",
      "Parameter of OUTPUTLAYER2FCS_DROPOUT_RATE not found in the input json file, use default value of 0.1!\n",
      "Parameter of PRETRAINED_TOKEN_EMB_FOR_INIT not found in the input json file, use default value of False!\n",
      "Parameter of EPOCH_TO_HAVE_MANUAL_LR not found in the input json file, use default value of 30!\n",
      "Parameter of ONE_CYCLE_LR_PCT_START not found in the input json file, use default value of 0.2!\n",
      "Parameter of ONE_CYCLE_LR_DIV_FACTOR not found in the input json file, use default value of 5!\n",
      "Parameter of ONE_CYCLE_LR_TOTAL_STEPS not found in the input json file, use default value of 40!\n",
      "Parameter of ONE_CYCLE_LR_EPOCHS not found in the input json file, use default value of 40!\n",
      "Parameter of ADAMW_WEIGHT_DECAY not found in the input json file, use default value of 0.01!\n"
     ]
    },
    {
     "name": "stderr",
     "output_type": "stream",
     "text": [
      "/home/561/zs2131/.local/lib/python3.11/site-packages/tqdm/auto.py:21: TqdmWarning: IProgress not found. Please update jupyter and ipywidgets. See https://ipywidgets.readthedocs.io/en/stable/user_install.html\n",
      "  from .autonotebook import tqdm as notebook_tqdm\n"
     ]
    },
    {
     "name": "stdout",
     "output_type": "stream",
     "text": [
      "Reading gene_to_idx_path /g/data/yr31/zs2131/tasks/2023/RNA_expr_net/DeepGeneNet/data/embedding/gene2vec_gene_to_idx.json!\n",
      "Reading gene_to_idx_path /g/data/yr31/zs2131/tasks/2023/RNA_expr_net/DeepGeneNet/data/embedding/gene2vec_gene_to_idx.json!\n"
     ]
    }
   ],
   "source": [
    "import os\n",
    "param_json_file = \"/g/data/yr31/zs2131/tasks/2023/RNA_expr_net/GeneRAIN/jsons/exp2_GPT_Binning_By_Gene.param_config.json\"\n",
    "os.environ['PARAM_JSON_FILE'] = param_json_file\n",
    "\n",
    "from train.common_params_funs import get_gene_symbols_filt_on_z_dup\n",
    "genes_with_good_mean_zscore_nondup = get_gene_symbols_filt_on_z_dup()"
   ]
  },
  {
   "cell_type": "code",
   "execution_count": null,
   "id": "118c2974-6668-4019-bd24-236bdda5e38c",
   "metadata": {},
   "outputs": [],
   "source": [
    "import h5py\n",
    "import torch\n",
    "import numpy as np\n",
    "from torch.utils.data import Dataset\n",
    "import os\n",
    "import pandas as pd\n",
    "from utils.json_utils import JsonUtils\n",
    "ju = JsonUtils()\n",
    "\n",
    "from utils.config_loader import Config\n",
    "\n",
    "config = Config()\n",
    "proj_path = config.proj_path\n",
    "\n",
    "h5_file_path = proj_path + \"/data/external/ARCHS/human_gene_v2.2.h5\"\n",
    "h5_file = h5py.File(h5_file_path, \"r\")\n",
    "gene_symbols = h5_file['meta']['genes']['symbol'][()]\n",
    "sample_size = h5_file['data']['expression'].shape[1]\n",
    "meta_data = h5_file['meta']['samples']\n",
    "\n",
    "os.chdir(proj_path + \"/data/external/ARCHS/\")\n",
    "# Extract metadata from hdf5 file to pandas DataFrame\n",
    "def output_meta(meta_data, output_file):\n",
    "    df_meta_data = pd.DataFrame()\n",
    "    for key in meta_data.keys():\n",
    "        df_meta_data[key] = meta_data[key][()]\n",
    "    \n",
    "    # Convert bytes to string\n",
    "    df_meta_data = df_meta_data.applymap(lambda x: x.decode() if isinstance(x, bytes) else x)\n",
    "    \n",
    "    # Save metadata DataFrame to a tsv file\n",
    "    df_meta_data.to_csv(output_file, sep='\\t', index=False)\n",
    "output_meta(h5_file['meta']['genes'], output_file=f\"{h5_file_path}.genes_meta.tsv\")\n",
    "output_meta(h5_file['meta']['samples'], output_file=f\"{h5_file_path}.samples_meta.tsv\")"
   ]
  },
  {
   "cell_type": "code",
   "execution_count": null,
   "id": "a159ed0a-08f9-4eb5-b0f8-7e689b43c6b7",
   "metadata": {},
   "outputs": [],
   "source": []
  }
 ],
 "metadata": {
  "kernelspec": {
   "display_name": "Python 3 (ipykernel)",
   "language": "python",
   "name": "python3"
  },
  "language_info": {
   "codemirror_mode": {
    "name": "ipython",
    "version": 3
   },
   "file_extension": ".py",
   "mimetype": "text/x-python",
   "name": "python",
   "nbconvert_exporter": "python",
   "pygments_lexer": "ipython3",
   "version": "3.11.0"
  }
 },
 "nbformat": 4,
 "nbformat_minor": 5
}
